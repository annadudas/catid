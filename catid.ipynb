{
  "cells": [
    {
      "cell_type": "markdown",
      "metadata": {
        "id": "view-in-github",
        "colab_type": "text"
      },
      "source": [
        "<a href=\"https://colab.research.google.com/github/annadudas/catid/blob/main/catid.ipynb\" target=\"_parent\"><img src=\"https://colab.research.google.com/assets/colab-badge.svg\" alt=\"Open In Colab\"/></a>"
      ]
    },
    {
      "cell_type": "code",
      "execution_count": null,
      "metadata": {
        "colab": {
          "base_uri": "https://localhost:8080/"
        },
        "id": "-aNpgZLM5kLw",
        "outputId": "368357fa-f6a0-4ccf-9f05-23d7c68e3130"
      },
      "outputs": [
        {
          "output_type": "stream",
          "name": "stdout",
          "text": [
            "Requirement already satisfied: PyDrive in /usr/local/lib/python3.7/dist-packages (1.3.1)\n",
            "Requirement already satisfied: google-api-python-client>=1.2 in /usr/local/lib/python3.7/dist-packages (from PyDrive) (1.12.8)\n",
            "Requirement already satisfied: PyYAML>=3.0 in /usr/local/lib/python3.7/dist-packages (from PyDrive) (3.13)\n",
            "Requirement already satisfied: oauth2client>=4.0.0 in /usr/local/lib/python3.7/dist-packages (from PyDrive) (4.1.3)\n",
            "Requirement already satisfied: google-auth-httplib2>=0.0.3 in /usr/local/lib/python3.7/dist-packages (from google-api-python-client>=1.2->PyDrive) (0.0.4)\n",
            "Requirement already satisfied: uritemplate<4dev,>=3.0.0 in /usr/local/lib/python3.7/dist-packages (from google-api-python-client>=1.2->PyDrive) (3.0.1)\n",
            "Requirement already satisfied: google-api-core<2dev,>=1.21.0 in /usr/local/lib/python3.7/dist-packages (from google-api-python-client>=1.2->PyDrive) (1.26.3)\n",
            "Requirement already satisfied: six<2dev,>=1.13.0 in /usr/local/lib/python3.7/dist-packages (from google-api-python-client>=1.2->PyDrive) (1.15.0)\n",
            "Requirement already satisfied: google-auth>=1.16.0 in /usr/local/lib/python3.7/dist-packages (from google-api-python-client>=1.2->PyDrive) (1.35.0)\n",
            "Requirement already satisfied: httplib2<1dev,>=0.15.0 in /usr/local/lib/python3.7/dist-packages (from google-api-python-client>=1.2->PyDrive) (0.17.4)\n",
            "Requirement already satisfied: requests<3.0.0dev,>=2.18.0 in /usr/local/lib/python3.7/dist-packages (from google-api-core<2dev,>=1.21.0->google-api-python-client>=1.2->PyDrive) (2.23.0)\n",
            "Requirement already satisfied: protobuf>=3.12.0 in /usr/local/lib/python3.7/dist-packages (from google-api-core<2dev,>=1.21.0->google-api-python-client>=1.2->PyDrive) (3.17.3)\n",
            "Requirement already satisfied: setuptools>=40.3.0 in /usr/local/lib/python3.7/dist-packages (from google-api-core<2dev,>=1.21.0->google-api-python-client>=1.2->PyDrive) (57.4.0)\n",
            "Requirement already satisfied: packaging>=14.3 in /usr/local/lib/python3.7/dist-packages (from google-api-core<2dev,>=1.21.0->google-api-python-client>=1.2->PyDrive) (21.3)\n",
            "Requirement already satisfied: pytz in /usr/local/lib/python3.7/dist-packages (from google-api-core<2dev,>=1.21.0->google-api-python-client>=1.2->PyDrive) (2018.9)\n",
            "Requirement already satisfied: googleapis-common-protos<2.0dev,>=1.6.0 in /usr/local/lib/python3.7/dist-packages (from google-api-core<2dev,>=1.21.0->google-api-python-client>=1.2->PyDrive) (1.53.0)\n",
            "Requirement already satisfied: rsa<5,>=3.1.4 in /usr/local/lib/python3.7/dist-packages (from google-auth>=1.16.0->google-api-python-client>=1.2->PyDrive) (4.8)\n",
            "Requirement already satisfied: pyasn1-modules>=0.2.1 in /usr/local/lib/python3.7/dist-packages (from google-auth>=1.16.0->google-api-python-client>=1.2->PyDrive) (0.2.8)\n",
            "Requirement already satisfied: cachetools<5.0,>=2.0.0 in /usr/local/lib/python3.7/dist-packages (from google-auth>=1.16.0->google-api-python-client>=1.2->PyDrive) (4.2.4)\n",
            "Requirement already satisfied: pyasn1>=0.1.7 in /usr/local/lib/python3.7/dist-packages (from oauth2client>=4.0.0->PyDrive) (0.4.8)\n",
            "Requirement already satisfied: pyparsing!=3.0.5,>=2.0.2 in /usr/local/lib/python3.7/dist-packages (from packaging>=14.3->google-api-core<2dev,>=1.21.0->google-api-python-client>=1.2->PyDrive) (3.0.6)\n",
            "Requirement already satisfied: certifi>=2017.4.17 in /usr/local/lib/python3.7/dist-packages (from requests<3.0.0dev,>=2.18.0->google-api-core<2dev,>=1.21.0->google-api-python-client>=1.2->PyDrive) (2021.10.8)\n",
            "Requirement already satisfied: urllib3!=1.25.0,!=1.25.1,<1.26,>=1.21.1 in /usr/local/lib/python3.7/dist-packages (from requests<3.0.0dev,>=2.18.0->google-api-core<2dev,>=1.21.0->google-api-python-client>=1.2->PyDrive) (1.24.3)\n",
            "Requirement already satisfied: chardet<4,>=3.0.2 in /usr/local/lib/python3.7/dist-packages (from requests<3.0.0dev,>=2.18.0->google-api-core<2dev,>=1.21.0->google-api-python-client>=1.2->PyDrive) (3.0.4)\n",
            "Requirement already satisfied: idna<3,>=2.5 in /usr/local/lib/python3.7/dist-packages (from requests<3.0.0dev,>=2.18.0->google-api-core<2dev,>=1.21.0->google-api-python-client>=1.2->PyDrive) (2.10)\n"
          ]
        }
      ],
      "source": [
        "!pip install PyDrive\n",
        "import os\n",
        "from pydrive.auth import GoogleAuth\n",
        "from pydrive.drive import GoogleDrive\n",
        "from google.colab import auth\n",
        "from oauth2client.client import GoogleCredentials\n",
        "\n",
        "\n",
        "\n"
      ]
    },
    {
      "cell_type": "code",
      "execution_count": null,
      "metadata": {
        "id": "X6aAZKBfhpfk"
      },
      "outputs": [],
      "source": [
        "auth.authenticate_user()\n",
        "gauth = GoogleAuth()\n",
        "gauth.credentials = GoogleCredentials.get_application_default()\n",
        "drive = GoogleDrive(gauth)"
      ]
    },
    {
      "cell_type": "code",
      "execution_count": null,
      "metadata": {
        "id": "UCwyVL8ECN4T"
      },
      "outputs": [],
      "source": [
        "download = drive.CreateFile({'id': '1NZkSMMRvtdg7X6gayFmZCenR7wSJnoVO'})\n",
        "\n"
      ]
    },
    {
      "cell_type": "code",
      "execution_count": null,
      "metadata": {
        "id": "dJRHR5lqaS_c"
      },
      "outputs": [],
      "source": [
        "download.GetContentFile('train.zip')"
      ]
    },
    {
      "cell_type": "code",
      "execution_count": null,
      "metadata": {
        "colab": {
          "base_uri": "https://localhost:8080/"
        },
        "id": "KiyEq2-wClqE",
        "outputId": "7f294235-1ce8-47f1-a5c8-f1d2a2341be2"
      },
      "outputs": [
        {
          "output_type": "stream",
          "name": "stdout",
          "text": [
            "Archive:  train.zip\n",
            "  inflating: train.csv               \n",
            "  inflating: train/1.png             \n",
            "  inflating: train/10.png            \n",
            "  inflating: train/100.png           \n",
            "  inflating: train/101.png           \n",
            "  inflating: train/102.png           \n",
            "  inflating: train/103.png           \n",
            "  inflating: train/104.png           \n",
            "  inflating: train/105.png           \n",
            "  inflating: train/106.png           \n",
            "  inflating: train/107.png           \n",
            "  inflating: train/108.png           \n",
            "  inflating: train/109.png           \n",
            "  inflating: train/11.png            \n",
            "  inflating: train/110.png           \n",
            "  inflating: train/111.png           \n",
            "  inflating: train/112.png           \n",
            "  inflating: train/113.png           \n",
            "  inflating: train/114.png           \n",
            "  inflating: train/115.png           \n",
            "  inflating: train/116.png           \n",
            "  inflating: train/117.png           \n",
            "  inflating: train/118.png           \n",
            "  inflating: train/119.png           \n",
            "  inflating: train/12.png            \n",
            "  inflating: train/120.png           \n",
            "  inflating: train/121.png           \n",
            "  inflating: train/122.png           \n",
            "  inflating: train/123.png           \n",
            "  inflating: train/124.png           \n",
            "  inflating: train/125.png           \n",
            "  inflating: train/126.png           \n",
            "  inflating: train/127.png           \n",
            "  inflating: train/128.png           \n",
            "  inflating: train/129.png           \n",
            "  inflating: train/13.png            \n",
            "  inflating: train/130.png           \n",
            "  inflating: train/131.png           \n",
            "  inflating: train/132.png           \n",
            "  inflating: train/133.png           \n",
            "  inflating: train/134.png           \n",
            "  inflating: train/135.png           \n",
            "  inflating: train/136.png           \n",
            "  inflating: train/137.png           \n",
            "  inflating: train/138.png           \n",
            "  inflating: train/139.png           \n",
            "  inflating: train/14.png            \n",
            "  inflating: train/140.png           \n",
            "  inflating: train/141.png           \n",
            "  inflating: train/142.png           \n",
            "  inflating: train/143.png           \n",
            "  inflating: train/144.png           \n",
            "  inflating: train/15.png            \n",
            "  inflating: train/16.png            \n",
            "  inflating: train/17.png            \n",
            "  inflating: train/18.png            \n",
            "  inflating: train/19.png            \n",
            "  inflating: train/2.png             \n",
            "  inflating: train/20.png            \n",
            "  inflating: train/21.png            \n",
            "  inflating: train/22.png            \n",
            "  inflating: train/23.png            \n",
            "  inflating: train/24.png            \n",
            "  inflating: train/25.png            \n",
            "  inflating: train/26.png            \n",
            "  inflating: train/27.png            \n",
            "  inflating: train/28.png            \n",
            "  inflating: train/29.png            \n",
            "  inflating: train/3.png             \n",
            "  inflating: train/30.png            \n",
            "  inflating: train/31.png            \n",
            "  inflating: train/32.png            \n",
            "  inflating: train/33.png            \n",
            "  inflating: train/34.png            \n",
            "  inflating: train/35.png            \n",
            "  inflating: train/36.png            \n",
            "  inflating: train/37.png            \n",
            "  inflating: train/38.png            \n",
            "  inflating: train/39.png            \n",
            "  inflating: train/4.png             \n",
            "  inflating: train/40.png            \n",
            "  inflating: train/41.png            \n",
            "  inflating: train/42.png            \n",
            "  inflating: train/43.png            \n",
            "  inflating: train/44.png            \n",
            "  inflating: train/45.png            \n",
            "  inflating: train/46.png            \n",
            "  inflating: train/47.png            \n",
            "  inflating: train/48.png            \n",
            "  inflating: train/49.png            \n",
            "  inflating: train/5.png             \n",
            "  inflating: train/50.png            \n",
            "  inflating: train/51.png            \n",
            "  inflating: train/52.png            \n",
            "  inflating: train/53.png            \n",
            "  inflating: train/54.png            \n",
            "  inflating: train/55.png            \n",
            "  inflating: train/56.png            \n",
            "  inflating: train/57.png            \n",
            "  inflating: train/58.png            \n",
            "  inflating: train/59.png            \n",
            "  inflating: train/6.png             \n",
            "  inflating: train/60.png            \n",
            "  inflating: train/61.png            \n",
            "  inflating: train/62.png            \n",
            "  inflating: train/63.png            \n",
            "  inflating: train/64.png            \n",
            "  inflating: train/65.png            \n",
            "  inflating: train/66.png            \n",
            "  inflating: train/67.png            \n",
            "  inflating: train/68.png            \n",
            "  inflating: train/69.png            \n",
            "  inflating: train/7.png             \n",
            "  inflating: train/70.png            \n",
            "  inflating: train/71.png            \n",
            "  inflating: train/72.png            \n",
            "  inflating: train/73.png            \n",
            "  inflating: train/74.png            \n",
            "  inflating: train/75.png            \n",
            "  inflating: train/76.png            \n",
            "  inflating: train/77.png            \n",
            "  inflating: train/78.png            \n",
            "  inflating: train/79.png            \n",
            "  inflating: train/8.png             \n",
            "  inflating: train/80.png            \n",
            "  inflating: train/81.png            \n",
            "  inflating: train/82.png            \n",
            "  inflating: train/83.png            \n",
            "  inflating: train/84.png            \n",
            "  inflating: train/85.png            \n",
            "  inflating: train/86.png            \n",
            "  inflating: train/87.png            \n",
            "  inflating: train/88.png            \n",
            "  inflating: train/89.png            \n",
            "  inflating: train/9.png             \n",
            "  inflating: train/90.png            \n",
            "  inflating: train/91.png            \n",
            "  inflating: train/92.png            \n",
            "  inflating: train/93.png            \n",
            "  inflating: train/94.png            \n",
            "  inflating: train/95.png            \n",
            "  inflating: train/96.png            \n",
            "  inflating: train/97.png            \n",
            "  inflating: train/98.png            \n",
            "  inflating: train/99.png            \n"
          ]
        }
      ],
      "source": [
        "!unzip train.zip"
      ]
    },
    {
      "cell_type": "code",
      "execution_count": null,
      "metadata": {
        "id": "bQwp8q675sK6"
      },
      "outputs": [],
      "source": [
        "import keras\n",
        "from keras.models import Sequential\n",
        "from keras.layers import Dense, Dropout, Flatten\n",
        "from keras.layers import Conv2D, MaxPooling2D\n",
        "from tensorflow.keras.utils import to_categorical\n",
        "from keras.preprocessing import image\n",
        "import numpy as np\n",
        "import pandas as pd\n",
        "import matplotlib.pyplot as plt\n",
        "from sklearn.model_selection import train_test_split\n",
        "from tensorflow.keras.utils import to_categorical\n",
        "from tqdm import tqdm\n",
        "\n",
        "\n",
        "\n"
      ]
    },
    {
      "cell_type": "code",
      "execution_count": null,
      "metadata": {
        "id": "atYexdO_iG_Q"
      },
      "outputs": [],
      "source": [
        "train = pd.read_csv('train.csv')"
      ]
    },
    {
      "cell_type": "code",
      "execution_count": null,
      "metadata": {
        "colab": {
          "base_uri": "https://localhost:8080/"
        },
        "id": "UE5VI4nXZ8dS",
        "outputId": "141c0c29-71c5-4dac-ab9c-c5d83c9d58af"
      },
      "outputs": [
        {
          "output_type": "stream",
          "name": "stderr",
          "text": [
            "100%|██████████| 144/144 [00:25<00:00,  5.63it/s]\n"
          ]
        }
      ],
      "source": [
        "train_image = []\n",
        "for i in tqdm(range(train.shape[0])):\n",
        "    img = image.load_img('train/'+train['id'][i].astype('str')+'.png', target_size=(28,28,3), interpolation='box', color_mode=\"rgb\")\n",
        "    img = image.img_to_array(img)\n",
        "    img = img/255\n",
        "    train_image.append(img)\n",
        "X = np.array(train_image)"
      ]
    },
    {
      "cell_type": "code",
      "execution_count": null,
      "metadata": {
        "colab": {
          "base_uri": "https://localhost:8080/"
        },
        "id": "IwYbhwRNiysg",
        "outputId": "8cab24ec-c236-4ff9-bae9-5050bc1e2dcc"
      },
      "outputs": [
        {
          "output_type": "stream",
          "name": "stdout",
          "text": [
            "Archive:  test.zip\n",
            "  inflating: test/145.png            \n",
            "  inflating: test/146.png            \n",
            "  inflating: test/147.png            \n",
            "  inflating: test/148.png            \n",
            "  inflating: test/149.png            \n",
            "  inflating: test/150.png            \n",
            "  inflating: test/151.png            \n",
            "  inflating: test/152.png            \n",
            "  inflating: test/153.png            \n",
            "  inflating: test/154.png            \n",
            "  inflating: test/155.png            \n",
            "  inflating: test/156.png            \n",
            "  inflating: test/157.png            \n",
            "  inflating: test/158.png            \n",
            "  inflating: test/159.png            \n",
            "  inflating: test/160.png            \n",
            "  inflating: test/161.png            \n",
            "  inflating: test/162.png            \n",
            "  inflating: test/163.png            \n",
            "  inflating: test/164.png            \n",
            "  inflating: test/165.png            \n",
            "  inflating: test/166.png            \n",
            "  inflating: test/167.png            \n",
            "  inflating: test/168.png            \n",
            "  inflating: test/169.png            \n",
            "  inflating: test/170.png            \n",
            "  inflating: test/171.png            \n",
            "  inflating: test/172.png            \n",
            "  inflating: test/173.png            \n",
            "  inflating: test/174.png            \n",
            "  inflating: test/175.png            \n",
            "  inflating: test/176.png            \n",
            "  inflating: test/177.png            \n",
            "  inflating: test/178.png            \n",
            "  inflating: test/179.png            \n",
            "  inflating: test/180.png            \n",
            "  inflating: testcats.csv            \n"
          ]
        }
      ],
      "source": [
        "download = drive.CreateFile({'id': '1LNBhldf_gbe2van2cdHCQ-M0JAd9ip6c'})\n",
        "download.GetContentFile('test.zip')\n",
        "!unzip test.zip"
      ]
    },
    {
      "cell_type": "code",
      "execution_count": null,
      "metadata": {
        "id": "1nnQgOat847y",
        "colab": {
          "base_uri": "https://localhost:8080/"
        },
        "outputId": "1a6849d9-78eb-43f4-c5f3-b2c2ec649281"
      },
      "outputs": [
        {
          "output_type": "stream",
          "name": "stderr",
          "text": [
            "100%|██████████| 36/36 [00:01<00:00, 27.07it/s]\n"
          ]
        }
      ],
      "source": [
        "test = pd.read_csv('testcats.csv')\n",
        "test_image = []\n",
        "for i in tqdm(range(test.shape[0])):\n",
        "    img = image.load_img('test/'+test['id'][i].astype('str')+'.png', target_size=(28,28,3), interpolation='box', color_mode=\"rgb\")\n",
        "    img = image.img_to_array(img)\n",
        "    img = img/255\n",
        "    test_image.append(img)\n",
        "test = np.array(test_image)\n",
        "\n",
        "\n",
        "\n",
        "\n"
      ]
    },
    {
      "cell_type": "code",
      "execution_count": null,
      "metadata": {
        "id": "zjSbxkfSihuM"
      },
      "outputs": [],
      "source": [
        "y=train['label'].values\n",
        "y = to_categorical(y)"
      ]
    },
    {
      "cell_type": "code",
      "execution_count": null,
      "metadata": {
        "id": "hVGM0NZiikE2"
      },
      "outputs": [],
      "source": [
        "X_train, X_test, y_train, y_test = train_test_split(X, y, random_state=42, test_size=0.2)\n"
      ]
    },
    {
      "cell_type": "code",
      "execution_count": null,
      "metadata": {
        "id": "tYqmJ5PE8dP2"
      },
      "outputs": [],
      "source": [
        "\n",
        "model = Sequential()\n",
        "model.add(Conv2D(32, kernel_size=(3, 3),activation='relu',input_shape=(28,28,3)))\n",
        "model.add(Conv2D(64, (3, 3), activation='relu'))\n",
        "model.add(MaxPooling2D(pool_size=(2, 2)))\n",
        "model.add(Dropout(0.25))\n",
        "model.add(Flatten())\n",
        "model.add(Dense(128, activation='relu'))\n",
        "model.add(Dropout(0.5))\n",
        "model.add(Dense(2, activation='softmax'))\n",
        "\n"
      ]
    },
    {
      "cell_type": "code",
      "execution_count": null,
      "metadata": {
        "id": "tVaRuXZ3itdf"
      },
      "outputs": [],
      "source": [
        "model.compile(loss='categorical_crossentropy',optimizer='Adam',metrics=['accuracy'])\n"
      ]
    },
    {
      "cell_type": "code",
      "execution_count": null,
      "metadata": {
        "colab": {
          "base_uri": "https://localhost:8080/"
        },
        "id": "AlgA4wTBi2Oh",
        "outputId": "e3b4985a-a18e-4edc-d7fe-4d0e1799167e"
      },
      "outputs": [
        {
          "output_type": "stream",
          "name": "stdout",
          "text": [
            "Epoch 1/32\n",
            "4/4 [==============================] - 1s 176ms/step - loss: 0.7137 - accuracy: 0.5913 - val_loss: 0.7138 - val_accuracy: 0.3448\n",
            "Epoch 2/32\n",
            "4/4 [==============================] - 0s 105ms/step - loss: 0.6715 - accuracy: 0.6000 - val_loss: 0.4963 - val_accuracy: 0.7586\n",
            "Epoch 3/32\n",
            "4/4 [==============================] - 0s 105ms/step - loss: 0.5869 - accuracy: 0.6696 - val_loss: 0.5743 - val_accuracy: 0.7931\n",
            "Epoch 4/32\n",
            "4/4 [==============================] - 0s 101ms/step - loss: 0.5463 - accuracy: 0.7565 - val_loss: 0.4235 - val_accuracy: 0.7586\n",
            "Epoch 5/32\n",
            "4/4 [==============================] - 0s 116ms/step - loss: 0.5040 - accuracy: 0.7652 - val_loss: 0.6105 - val_accuracy: 0.5517\n",
            "Epoch 6/32\n",
            "4/4 [==============================] - 0s 103ms/step - loss: 0.4798 - accuracy: 0.8087 - val_loss: 0.3686 - val_accuracy: 0.8621\n",
            "Epoch 7/32\n",
            "4/4 [==============================] - 0s 104ms/step - loss: 0.4318 - accuracy: 0.8000 - val_loss: 0.4232 - val_accuracy: 0.8276\n",
            "Epoch 8/32\n",
            "4/4 [==============================] - 0s 104ms/step - loss: 0.3866 - accuracy: 0.8522 - val_loss: 0.3203 - val_accuracy: 0.9310\n",
            "Epoch 9/32\n",
            "4/4 [==============================] - 0s 103ms/step - loss: 0.3462 - accuracy: 0.8261 - val_loss: 0.3635 - val_accuracy: 0.8966\n",
            "Epoch 10/32\n",
            "4/4 [==============================] - 0s 101ms/step - loss: 0.3270 - accuracy: 0.8783 - val_loss: 0.2849 - val_accuracy: 0.9310\n",
            "Epoch 11/32\n",
            "4/4 [==============================] - 0s 103ms/step - loss: 0.2557 - accuracy: 0.9217 - val_loss: 0.2483 - val_accuracy: 0.9310\n",
            "Epoch 12/32\n",
            "4/4 [==============================] - 0s 104ms/step - loss: 0.2176 - accuracy: 0.9304 - val_loss: 0.2461 - val_accuracy: 0.8966\n",
            "Epoch 13/32\n",
            "4/4 [==============================] - 0s 108ms/step - loss: 0.1829 - accuracy: 0.9565 - val_loss: 0.2134 - val_accuracy: 0.8966\n",
            "Epoch 14/32\n",
            "4/4 [==============================] - 0s 102ms/step - loss: 0.2072 - accuracy: 0.9130 - val_loss: 0.2279 - val_accuracy: 0.8966\n",
            "Epoch 15/32\n",
            "4/4 [==============================] - 0s 100ms/step - loss: 0.1385 - accuracy: 0.9913 - val_loss: 0.1764 - val_accuracy: 0.9310\n",
            "Epoch 16/32\n",
            "4/4 [==============================] - 0s 105ms/step - loss: 0.1488 - accuracy: 0.9652 - val_loss: 0.1942 - val_accuracy: 0.8966\n",
            "Epoch 17/32\n",
            "4/4 [==============================] - 0s 105ms/step - loss: 0.1051 - accuracy: 0.9826 - val_loss: 0.1485 - val_accuracy: 0.8966\n",
            "Epoch 18/32\n",
            "4/4 [==============================] - 0s 107ms/step - loss: 0.1000 - accuracy: 0.9652 - val_loss: 0.2496 - val_accuracy: 0.8966\n",
            "Epoch 19/32\n",
            "4/4 [==============================] - 0s 100ms/step - loss: 0.1031 - accuracy: 0.9826 - val_loss: 0.1512 - val_accuracy: 0.8966\n",
            "Epoch 20/32\n",
            "4/4 [==============================] - 0s 101ms/step - loss: 0.0688 - accuracy: 0.9913 - val_loss: 0.1356 - val_accuracy: 0.9655\n",
            "Epoch 21/32\n",
            "4/4 [==============================] - 0s 109ms/step - loss: 0.0665 - accuracy: 0.9826 - val_loss: 0.1279 - val_accuracy: 0.9655\n",
            "Epoch 22/32\n",
            "4/4 [==============================] - 0s 100ms/step - loss: 0.0631 - accuracy: 0.9826 - val_loss: 0.1718 - val_accuracy: 0.8966\n",
            "Epoch 23/32\n",
            "4/4 [==============================] - 0s 109ms/step - loss: 0.0573 - accuracy: 0.9826 - val_loss: 0.1927 - val_accuracy: 0.9310\n",
            "Epoch 24/32\n",
            "4/4 [==============================] - 0s 101ms/step - loss: 0.0478 - accuracy: 1.0000 - val_loss: 0.1595 - val_accuracy: 0.8966\n",
            "Epoch 25/32\n",
            "4/4 [==============================] - 0s 101ms/step - loss: 0.0400 - accuracy: 0.9913 - val_loss: 0.1232 - val_accuracy: 0.9310\n",
            "Epoch 26/32\n",
            "4/4 [==============================] - 0s 106ms/step - loss: 0.0209 - accuracy: 1.0000 - val_loss: 0.1411 - val_accuracy: 0.9310\n",
            "Epoch 27/32\n",
            "4/4 [==============================] - 0s 98ms/step - loss: 0.0186 - accuracy: 1.0000 - val_loss: 0.1066 - val_accuracy: 0.9310\n",
            "Epoch 28/32\n",
            "4/4 [==============================] - 0s 102ms/step - loss: 0.0183 - accuracy: 1.0000 - val_loss: 0.0997 - val_accuracy: 0.9310\n",
            "Epoch 29/32\n",
            "4/4 [==============================] - 0s 102ms/step - loss: 0.0152 - accuracy: 1.0000 - val_loss: 0.1064 - val_accuracy: 0.9310\n",
            "Epoch 30/32\n",
            "4/4 [==============================] - 0s 100ms/step - loss: 0.0125 - accuracy: 1.0000 - val_loss: 0.1104 - val_accuracy: 0.9310\n",
            "Epoch 31/32\n",
            "4/4 [==============================] - 0s 107ms/step - loss: 0.0081 - accuracy: 1.0000 - val_loss: 0.1040 - val_accuracy: 0.9310\n",
            "Epoch 32/32\n",
            "4/4 [==============================] - 0s 101ms/step - loss: 0.0072 - accuracy: 1.0000 - val_loss: 0.1039 - val_accuracy: 0.9310\n"
          ]
        },
        {
          "output_type": "execute_result",
          "data": {
            "text/plain": [
              "<keras.callbacks.History at 0x7f6dcc87b1d0>"
            ]
          },
          "metadata": {},
          "execution_count": 15
        }
      ],
      "source": [
        "model.fit(X_train, y_train, epochs=32, validation_data=(X_test, y_test))"
      ]
    },
    {
      "cell_type": "code",
      "execution_count": null,
      "metadata": {
        "id": "xQZ6mJKMR7LS"
      },
      "outputs": [],
      "source": [
        "prediction = np.argmax(model.predict(test), axis=-1)\n",
        "download = drive.CreateFile({'id': '1dOwrL7HQkg91FqtGnr9Tbravd5pUTtB_'})\n",
        "download.GetContentFile('prediction.csv')\n",
        "sample = pd.read_csv('prediction.csv')\n",
        "sample['label'] = prediction\n",
        "sample.to_csv('prediction_filled.csv', header=True, index=False)"
      ]
    }
  ],
  "metadata": {
    "colab": {
      "collapsed_sections": [],
      "name": "catid.ipynb",
      "provenance": [],
      "toc_visible": true,
      "include_colab_link": true
    },
    "kernelspec": {
      "display_name": "Python 3",
      "name": "python3"
    }
  },
  "nbformat": 4,
  "nbformat_minor": 0
}